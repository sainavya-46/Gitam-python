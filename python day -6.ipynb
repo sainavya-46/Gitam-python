{
 "cells": [
  {
   "cell_type": "markdown",
   "metadata": {},
   "source": [
    "### Standard Libraries\n",
    "   - file I/O\n",
    "   - Regular Expression\n",
    "   - Datetime\n",
    "   - Math(numerical and mathematical)"
   ]
  },
  {
   "cell_type": "markdown",
   "metadata": {},
   "source": [
    "## String Formatting\n",
    "   - classsical version\n",
    "   - current version"
   ]
  },
  {
   "cell_type": "markdown",
   "metadata": {},
   "source": [
    "### File heading in python\n",
    "  - file: document containing information reaches on the permanent storage \n",
    "  - Different types  of the files :- txt.doc,pdf,csv and etc----\n",
    "  - Input --Keyword\n",
    "  - Output -- File\n",
    "  ### Modes  of the file I/O\n",
    "   - 'w' -- This Mode Is Used To File Writimg\n",
    "       - if the file is not present it creates the file and write some data to it\n",
    "       - if the file is already present then it will rewrite the previous content"
   ]
  },
  {
   "cell_type": "code",
   "execution_count": 10,
   "metadata": {},
   "outputs": [
    {
     "name": "stdout",
     "output_type": "stream",
     "text": [
      "File is created  and data has written\n"
     ]
    }
   ],
   "source": [
    "#function to create the file  and write  to the file\n",
    "def createfile(filename):\n",
    "    f=open(filename,'w')\n",
    "    for i in range(10):\n",
    "        f.write('this is %d line\\n'% i)\n",
    "    print(\"File is created  and data has written\")\n",
    "    return\n",
    "createfile('file1.txt')           "
   ]
  },
  {
   "cell_type": "code",
   "execution_count": 5,
   "metadata": {},
   "outputs": [
    {
     "name": "stdout",
     "output_type": "stream",
     "text": [
      "\u001b[0m\u001b[01;34manaconda3\u001b[0m/        file1.txt            python day3-2.ipynb  \u001b[01;34mUntitled Folder\u001b[0m/\r\n",
      "day 9.ipynb       \u001b[01;34mMusic\u001b[0m/               python day 6.ipynb   \u001b[01;34mUntitled Folder 1\u001b[0m/\r\n",
      "\u001b[01;34mDesktop\u001b[0m/          n                     python day-7.ipynb  \u001b[01;34mUntitled Folder 2\u001b[0m/\r\n",
      "\u001b[01;34mDocuments\u001b[0m/        \u001b[01;34mPictures\u001b[0m/            python day-8.ipynb   \u001b[01;34mUntitled Folder 3\u001b[0m/\r\n",
      "\u001b[01;34mDownloads\u001b[0m/        \u001b[01;34mPublic\u001b[0m/              \u001b[01;34mTemplates\u001b[0m/           Untitled.ipynb\r\n",
      "examples.desktop  python day 10.ipynb  Untitled1.ipynb      \u001b[01;34mVideos\u001b[0m/\r\n"
     ]
    }
   ],
   "source": [
    "ls"
   ]
  },
  {
   "cell_type": "code",
   "execution_count": 7,
   "metadata": {},
   "outputs": [
    {
     "name": "stdout",
     "output_type": "stream",
     "text": [
      "\u001b[0m\u001b[01;34manaconda3\u001b[0m/        file.txt             python day 6.ipynb   \u001b[01;34mUntitled Folder 2\u001b[0m/\r\n",
      "day 9.ipynb       \u001b[01;34mMusic\u001b[0m/                python day-7.ipynb  \u001b[01;34mUntitled Folder 3\u001b[0m/\r\n",
      "\u001b[01;34mDesktop\u001b[0m/          n                    python day-8.ipynb   Untitled.ipynb\r\n",
      "\u001b[01;34mDocuments\u001b[0m/        \u001b[01;34mPictures\u001b[0m/            \u001b[01;34mTemplates\u001b[0m/           \u001b[01;34mVideos\u001b[0m/\r\n",
      "\u001b[01;34mDownloads\u001b[0m/        \u001b[01;34mPublic\u001b[0m/              Untitled1.ipynb\r\n",
      "examples.desktop  python day 10.ipynb  \u001b[01;34mUntitled Folder\u001b[0m/\r\n",
      "file1.txt         python day3-2.ipynb  \u001b[01;34mUntitled Folder 1\u001b[0m/\r\n"
     ]
    }
   ],
   "source": [
    "ls"
   ]
  },
  {
   "cell_type": "code",
   "execution_count": 8,
   "metadata": {},
   "outputs": [
    {
     "name": "stdout",
     "output_type": "stream",
     "text": [
      "this is 0 line\r\n",
      "this is 1 line\r\n",
      "this is 2 line\r\n",
      "this is 3 line\r\n",
      "this is 4 line\r\n",
      "this is 5 line\r\n",
      "this is 6 line\r\n",
      "this is 7 line\r\n",
      "this is 8 line\r\n",
      "this is 9 line\r\n"
     ]
    }
   ],
   "source": [
    "cat file.txt"
   ]
  },
  {
   "cell_type": "code",
   "execution_count": 20,
   "metadata": {},
   "outputs": [
    {
     "name": "stdout",
     "output_type": "stream",
     "text": [
      "File is created  and data has written\n"
     ]
    }
   ],
   "source": [
    "def createfile(filename):\n",
    "    f=open(filename,'w')\n",
    "    f.write('Testing---\\n')\n",
    "    print(\"File is created  and data has written\")\n",
    "    f.close()\n",
    "    return\n",
    "createfile('file1.txt')           "
   ]
  },
  {
   "cell_type": "code",
   "execution_count": 21,
   "metadata": {},
   "outputs": [
    {
     "name": "stdout",
     "output_type": "stream",
     "text": [
      "File is created and successfully data has written\n"
     ]
    }
   ],
   "source": [
    "def appendData(filename):\n",
    "    f=open(filename,'a')\n",
    "    for i in range(10):\n",
    "        f.write('this is %d line\\n'% i)\n",
    "    print(\"File is created and successfully data has written\")\n",
    "    return\n",
    "appendData('file2.txt')           "
   ]
  },
  {
   "cell_type": "code",
   "execution_count": 16,
   "metadata": {},
   "outputs": [
    {
     "name": "stdout",
     "output_type": "stream",
     "text": [
      "File is created and successfully data has written\n"
     ]
    }
   ],
   "source": [
    "def appendData(filename):\n",
    "    f=open(filename,'a')\n",
    "    f.write(\"New Line 1\\n\")\n",
    "    f.write(\"New Line 2\\n\")\n",
    "    print(\"File is created and successfully data has written\")\n",
    "    f.close()\n",
    "    return\n",
    "appendData('file2.txt')           \n"
   ]
  },
  {
   "cell_type": "code",
   "execution_count": 3,
   "metadata": {},
   "outputs": [
    {
     "name": "stdout",
     "output_type": "stream",
     "text": [
      "this is 0 line\n",
      "this is 1 line\n",
      "this is 2 line\n",
      "this is 3 line\n",
      "this is 4 line\n",
      "this is 5 line\n",
      "this is 6 line\n",
      "this is 7 line\n",
      "this is 8 line\n",
      "this is 9 line\n",
      "this is 0 line\n",
      "this is 1 line\n",
      "this is 2 line\n",
      "this is 3 line\n",
      "this is 4 line\n",
      "this is 5 line\n",
      "this is 6 line\n",
      "this is 7 line\n",
      "this is 8 line\n",
      "this is 9 line\n",
      "New Line 1\n",
      "New Line 2\n",
      "New Line 1\n",
      "New Line 2\n",
      "this is 0 line\n",
      "this is 1 line\n",
      "this is 2 line\n",
      "this is 3 line\n",
      "this is 4 line\n",
      "this is 5 line\n",
      "this is 6 line\n",
      "this is 7 line\n",
      "this is 8 line\n",
      "this is 9 line\n",
      "\n"
     ]
    }
   ],
   "source": [
    "#function to read the file\n",
    "def readFiledata(filename):\n",
    "    f=open(filename,'r')\n",
    "    if f.mode == 'r':\n",
    "        x=f.read()\n",
    "        print(x)\n",
    "    f.close()\n",
    "    return\n",
    "readFiledata(\"file2.txt\")\n",
    "          \n"
   ]
  },
  {
   "cell_type": "code",
   "execution_count": 2,
   "metadata": {},
   "outputs": [
    {
     "name": "stdout",
     "output_type": "stream",
     "text": [
      "Enter the filenamefile2.txt\n",
      "Enter the mode of the file r\n",
      "this is 0 line\n",
      "this is 1 line\n",
      "this is 2 line\n",
      "this is 3 line\n",
      "this is 4 line\n",
      "this is 5 line\n",
      "this is 6 line\n",
      "this is 7 line\n",
      "this is 8 line\n",
      "this is 9 line\n",
      "this is 0 line\n",
      "this is 1 line\n",
      "this is 2 line\n",
      "this is 3 line\n",
      "this is 4 line\n",
      "this is 5 line\n",
      "this is 6 line\n",
      "this is 7 line\n",
      "this is 8 line\n",
      "this is 9 line\n",
      "New Line 1\n",
      "New Line 2\n",
      "New Line 1\n",
      "New Line 2\n",
      "this is 0 line\n",
      "this is 1 line\n",
      "this is 2 line\n",
      "this is 3 line\n",
      "this is 4 line\n",
      "this is 5 line\n",
      "this is 6 line\n",
      "this is 7 line\n",
      "this is 8 line\n",
      "this is 9 line\n",
      "\n"
     ]
    }
   ],
   "source": [
    "def fileoperations(filename,mode):  \n",
    "    with open(filename,mode) as f:\n",
    "        if f.mode == 'r':\n",
    "            data=f.read()\n",
    "            print(data)\n",
    "        elif f.mode =='a':\n",
    "            f.write('Data to the file')\n",
    "            print('The data successfully written')\n",
    "    f.close()\n",
    "    return\n",
    "filename=input(\"Enter the filename\")\n",
    "mode = input(\"Enter the mode of the file \")\n",
    "fileoperations(filename,mode)      "
   ]
  },
  {
   "cell_type": "code",
   "execution_count": 1,
   "metadata": {},
   "outputs": [
    {
     "name": "stdout",
     "output_type": "stream",
     "text": [
      "Enter the filename :file.txt\n",
      "Enter the word :line\n"
     ]
    },
    {
     "data": {
      "text/plain": [
       "10"
      ]
     },
     "execution_count": 1,
     "metadata": {},
     "output_type": "execute_result"
    }
   ],
   "source": [
    "#data analysis\n",
    "#word count program\n",
    "def wordcount(filename,word):\n",
    "    with open(filename,'r') as f:\n",
    "        if f.mode == 'r':\n",
    "            x=f.read()\n",
    "            li=x.split()\n",
    "    cnt=li.count(word)\n",
    "    return cnt\n",
    "filename=input('Enter the filename :')\n",
    "word=input('Enter the word :')\n",
    "wordcount(filename,word)"
   ]
  },
  {
   "cell_type": "code",
   "execution_count": 1,
   "metadata": {},
   "outputs": [
    {
     "name": "stdout",
     "output_type": "stream",
     "text": [
      "Enter the filename :file.txt\n"
     ]
    },
    {
     "data": {
      "text/plain": [
       "150"
      ]
     },
     "execution_count": 1,
     "metadata": {},
     "output_type": "execute_result"
    }
   ],
   "source": [
    "#character count from the given file\n",
    "def charcount(filename):\n",
    "    with open(filename,'r') as f:\n",
    "        if f.mode=='r':\n",
    "            x=f.read()\n",
    "            li=list(x) #convert string to character\n",
    "    return  len(li)\n",
    "filename=input('Enter the filename :')\n",
    "charcount(filename)"
   ]
  },
  {
   "cell_type": "code",
   "execution_count": 2,
   "metadata": {},
   "outputs": [
    {
     "name": "stdout",
     "output_type": "stream",
     "text": [
      "Enter thr filename: file.txt\n"
     ]
    },
    {
     "data": {
      "text/plain": [
       "11"
      ]
     },
     "execution_count": 2,
     "metadata": {},
     "output_type": "execute_result"
    }
   ],
   "source": [
    "#function to find the number of lines n the input file\n",
    "#input -- filename(file2.txt)\n",
    "#output -- no of lines(12)\n",
    "def countoflines(filename):\n",
    "    with open(filename,'r') as f:\n",
    "        if f.mode=='r':\n",
    "            x=f.read()\n",
    "            li=x.split(\"\\n\")\n",
    "    return  len(li)\n",
    "filename=input(\"Enter thr filename: \")\n",
    "countoflines(filename)"
   ]
  },
  {
   "cell_type": "code",
   "execution_count": 5,
   "metadata": {},
   "outputs": [
    {
     "name": "stdout",
     "output_type": "stream",
     "text": [
      "Enter the filename;file2.txt\n"
     ]
    },
    {
     "data": {
      "text/plain": [
       "'Upper Case =8,Lower Case =320'"
      ]
     },
     "execution_count": 5,
     "metadata": {},
     "output_type": "execute_result"
    }
   ],
   "source": [
    "#function to print the upper lower characters\n",
    "def casecount(filename):\n",
    "    cntUpper=0\n",
    "    cntLower=0\n",
    "    with open(filename,'r') as f:\n",
    "        if f.mode=='r':\n",
    "            x=f.read()\n",
    "            li=list(x)\n",
    "    for i in li:\n",
    "        if i.isupper():\n",
    "            cntUpper+=1\n",
    "        elif i.islower():\n",
    "            cntLower+=1\n",
    "    output='Upper Case ={0},Lower Case ={1}'.format(cntUpper,cntLower)\n",
    "    return output\n",
    "filename =input('Enter the filename;')\n",
    "casecount(filename)\n",
    "        "
   ]
  },
  {
   "cell_type": "markdown",
   "metadata": {},
   "source": [
    "### math , Random,OS\n",
    "  - on package it contains the contain methods which work with OS"
   ]
  },
  {
   "cell_type": "code",
   "execution_count": 6,
   "metadata": {},
   "outputs": [
    {
     "name": "stdout",
     "output_type": "stream",
     "text": [
      "\u001b[0m\u001b[01;34manaconda3\u001b[0m/        file2.txt            python day-2.ipynb   \u001b[01;34mUntitled Folder 1\u001b[0m/\r\n",
      "day 9.ipynb       file.txt             python day3-2.ipynb  \u001b[01;34mUntitled Folder 2\u001b[0m/\r\n",
      "\u001b[01;34mDesktop\u001b[0m/          \u001b[01;34mMusic\u001b[0m/                python day-7.ipynb  \u001b[01;34mUntitled Folder 3\u001b[0m/\r\n",
      "\u001b[01;34mDocuments\u001b[0m/        n                    python day-8.ipynb   Untitled.ipynb\r\n",
      "\u001b[01;34mDownloads\u001b[0m/        \u001b[01;34mPictures\u001b[0m/            \u001b[01;34mTemplates\u001b[0m/           \u001b[01;34mVideos\u001b[0m/\r\n",
      "examples.desktop  \u001b[01;34mPublic\u001b[0m/              Untitled1.ipynb\r\n",
      "file1.txt         python day 10.ipynb  \u001b[01;34mUntitled Folder\u001b[0m/\r\n"
     ]
    }
   ],
   "source": [
    " ls"
   ]
  },
  {
   "cell_type": "code",
   "execution_count": 7,
   "metadata": {},
   "outputs": [
    {
     "name": "stdout",
     "output_type": "stream",
     "text": [
      "[Errno 2] No such file or directory: 'Desktop/PythonProg'\n",
      "/home/student\n"
     ]
    }
   ],
   "source": [
    "cd Desktop/PythonProg"
   ]
  },
  {
   "cell_type": "code",
   "execution_count": 8,
   "metadata": {},
   "outputs": [
    {
     "name": "stdout",
     "output_type": "stream",
     "text": [
      "\u001b[0m\u001b[01;34manaconda3\u001b[0m/        file2.txt            python day-2.ipynb   \u001b[01;34mUntitled Folder 1\u001b[0m/\r\n",
      "day 9.ipynb       file.txt             python day3-2.ipynb  \u001b[01;34mUntitled Folder 2\u001b[0m/\r\n",
      "\u001b[01;34mDesktop\u001b[0m/          \u001b[01;34mMusic\u001b[0m/                python day-7.ipynb  \u001b[01;34mUntitled Folder 3\u001b[0m/\r\n",
      "\u001b[01;34mDocuments\u001b[0m/        n                    python day-8.ipynb   Untitled.ipynb\r\n",
      "\u001b[01;34mDownloads\u001b[0m/        \u001b[01;34mPictures\u001b[0m/            \u001b[01;34mTemplates\u001b[0m/           \u001b[01;34mVideos\u001b[0m/\r\n",
      "examples.desktop  \u001b[01;34mPublic\u001b[0m/              Untitled1.ipynb\r\n",
      "file1.txt         python day 10.ipynb  \u001b[01;34mUntitled Folder\u001b[0m/\r\n"
     ]
    }
   ],
   "source": [
    "ls"
   ]
  },
  {
   "cell_type": "code",
   "execution_count": 9,
   "metadata": {},
   "outputs": [
    {
     "data": {
      "text/plain": [
       "'/home/student'"
      ]
     },
     "execution_count": 9,
     "metadata": {},
     "output_type": "execute_result"
    }
   ],
   "source": [
    "pwd"
   ]
  },
  {
   "cell_type": "code",
   "execution_count": 10,
   "metadata": {
    "scrolled": true
   },
   "outputs": [
    {
     "data": {
      "text/plain": [
       "['.mozilla',\n",
       " 'Untitled Folder 2',\n",
       " 'Untitled.ipynb',\n",
       " 'anaconda3',\n",
       " '.bash_logout',\n",
       " 'Pictures',\n",
       " '.Xauthority',\n",
       " 'file.txt',\n",
       " 'file2.txt',\n",
       " 'Untitled Folder',\n",
       " 'Desktop',\n",
       " 'Videos',\n",
       " '.pki',\n",
       " '.local',\n",
       " '.profile',\n",
       " '.jupyter',\n",
       " '.gnupg',\n",
       " 'Music',\n",
       " 'Downloads',\n",
       " '.ipynb_checkpoints',\n",
       " '.xsession-errors.old',\n",
       " '.xsession-errors',\n",
       " '.bashrc',\n",
       " '.compiz',\n",
       " 'Documents',\n",
       " ' python day-7.ipynb',\n",
       " '.ICEauthority',\n",
       " 'Untitled Folder 3',\n",
       " '.bash_history',\n",
       " '.cache',\n",
       " 'day 9.ipynb',\n",
       " 'python day3-2.ipynb',\n",
       " 'Untitled1.ipynb',\n",
       " 'file1.txt',\n",
       " 'Templates',\n",
       " 'Public',\n",
       " '.gconf',\n",
       " 'examples.desktop',\n",
       " '.ipython',\n",
       " 'python day-8.ipynb',\n",
       " '.config',\n",
       " 'Untitled Folder 1',\n",
       " 'python day 10.ipynb',\n",
       " 'python day-2.ipynb',\n",
       " 'n']"
      ]
     },
     "execution_count": 10,
     "metadata": {},
     "output_type": "execute_result"
    }
   ],
   "source": [
    "import os\n",
    "os.listdir()"
   ]
  },
  {
   "cell_type": "markdown",
   "metadata": {},
   "source": [
    "### Listing all files in a directory\n"
   ]
  },
  {
   "cell_type": "code",
   "execution_count": 27,
   "metadata": {},
   "outputs": [
    {
     "name": "stdout",
     "output_type": "stream",
     "text": [
      "user-dirs.locale\n",
      "mimeapps.list\n",
      "user-dirs.dirs\n"
     ]
    }
   ],
   "source": [
    "import os\n",
    "dirPath =\".config\"\n",
    "for i in os.listdir(dirPath):\n",
    "    if os.path.isfile(os.path.join(dirPath,i)):\n",
    "        print(i)\n"
   ]
  },
  {
   "cell_type": "code",
   "execution_count": 29,
   "metadata": {},
   "outputs": [
    {
     "name": "stdout",
     "output_type": "stream",
     "text": [
      "gedit\n",
      "dconf\n",
      "libaccounts-glib\n",
      "evolution\n",
      "ibus\n",
      "user-dirs.locale\n",
      "update-notifier\n",
      "unity\n",
      "compiz-1\n",
      "gtk-3.0\n",
      "upstart\n",
      "pulse\n",
      "google-chrome\n",
      "nautilus\n",
      "libreoffice\n",
      "gnome-control-center\n",
      "mimeapps.list\n",
      "user-dirs.dirs\n",
      "gnome-session\n"
     ]
    }
   ],
   "source": [
    "li=os.listdir('.config')\n",
    "for i in li:\n",
    "    print(i)"
   ]
  },
  {
   "cell_type": "code",
   "execution_count": 20,
   "metadata": {},
   "outputs": [
    {
     "data": {
      "text/plain": [
       "'/home/student'"
      ]
     },
     "execution_count": 20,
     "metadata": {},
     "output_type": "execute_result"
    }
   ],
   "source": [
    "pwd"
   ]
  },
  {
   "cell_type": "markdown",
   "metadata": {},
   "source": [
    "### Listing the subdirectories"
   ]
  },
  {
   "cell_type": "code",
   "execution_count": 30,
   "metadata": {},
   "outputs": [
    {
     "name": "stdout",
     "output_type": "stream",
     "text": [
      "user-dirs.locale\n",
      "mimeapps.list\n",
      "user-dirs.dirs\n"
     ]
    }
   ],
   "source": [
    "dirpath = '.config'\n",
    "for i in os.listdir(dirPath):\n",
    "    if os.path.isfile(os.path.join(dirPath,i)):\n",
    "        print(i)"
   ]
  },
  {
   "cell_type": "code",
   "execution_count": 36,
   "metadata": {},
   "outputs": [
    {
     "name": "stdout",
     "output_type": "stream",
     "text": [
      "gedit\n",
      "dconf\n",
      "libaccounts-glib\n",
      "evolution\n",
      "ibus\n",
      "update-notifier\n",
      "unity\n",
      "compiz-1\n",
      "gtk-3.0\n",
      "upstart\n",
      "pulse\n",
      "google-chrome\n",
      "nautilus\n",
      "libreoffice\n",
      "gnome-control-center\n",
      "gnome-session\n"
     ]
    }
   ],
   "source": [
    "from pathlib  import Path\n",
    "dirpath=Path('.config')\n",
    "for i in dirpath.iterdir():\n",
    "    if i.is_dir():\n",
    "        print(i.name)"
   ]
  },
  {
   "cell_type": "code",
   "execution_count": 32,
   "metadata": {},
   "outputs": [
    {
     "name": "stdout",
     "output_type": "stream",
     "text": [
      "gedit\n",
      "dconf\n",
      "libaccounts-glib\n",
      "evolution\n",
      "ibus\n",
      "update-notifier\n",
      "unity\n",
      "compiz-1\n",
      "gtk-3.0\n",
      "upstart\n",
      "pulse\n",
      "google-chrome\n",
      "nautilus\n",
      "libreoffice\n",
      "gnome-control-center\n",
      "gnome-session\n"
     ]
    }
   ],
   "source": [
    "dirpath='.config'\n",
    "with os.scandir(dirpath) as f:\n",
    "    for i in f:\n",
    "        if i.is_dir():\n",
    "            print(i.name)"
   ]
  },
  {
   "cell_type": "markdown",
   "metadata": {},
   "source": [
    "### Creating a single directory"
   ]
  },
  {
   "cell_type": "code",
   "execution_count": 47,
   "metadata": {},
   "outputs": [],
   "source": [
    "import os\n",
    "os.mkdir('Single Directory')"
   ]
  },
  {
   "cell_type": "code",
   "execution_count": 48,
   "metadata": {},
   "outputs": [],
   "source": [
    "import pathlib\n",
    "p=pathlib.Path(\"Test Folder\")\n",
    "p.mkdir()"
   ]
  },
  {
   "cell_type": "code",
   "execution_count": 44,
   "metadata": {},
   "outputs": [
    {
     "name": "stdout",
     "output_type": "stream",
     "text": [
      "\u001b[0m\u001b[01;34manaconda3\u001b[0m/        file2.txt            python day-2.ipynb   Untitled1.ipynb\r\n",
      "day 9.ipynb       file.txt             python day3-2.ipynb  \u001b[01;34mUntitled Folder\u001b[0m/\r\n",
      "\u001b[01;34mDesktop\u001b[0m/          \u001b[01;34mMusic\u001b[0m/                python day-7.ipynb  \u001b[01;34mUntitled Folder 1\u001b[0m/\r\n",
      "\u001b[01;34mDocuments\u001b[0m/        n                    python day-8.ipynb   \u001b[01;34mUntitled Folder 2\u001b[0m/\r\n",
      "\u001b[01;34mDownloads\u001b[0m/        \u001b[01;34mPictures\u001b[0m/            \u001b[01;34mSingleDirectory\u001b[0m/     \u001b[01;34mUntitled Folder 3\u001b[0m/\r\n",
      "examples.desktop  \u001b[01;34mPublic\u001b[0m/              \u001b[01;34mTemplates\u001b[0m/           Untitled.ipynb\r\n",
      "file1.txt         python day 10.ipynb  \u001b[01;34mTestFolder\u001b[0m/          \u001b[01;34mVideos\u001b[0m/\r\n"
     ]
    }
   ],
   "source": [
    "ls\n",
    "\n"
   ]
  },
  {
   "cell_type": "markdown",
   "metadata": {},
   "source": [
    "### creating multiple directory\n",
    "\n"
   ]
  },
  {
   "cell_type": "code",
   "execution_count": 49,
   "metadata": {},
   "outputs": [],
   "source": [
    "import os\n",
    "os.makedirs('2019/july/11')"
   ]
  },
  {
   "cell_type": "code",
   "execution_count": 50,
   "metadata": {},
   "outputs": [
    {
     "name": "stdout",
     "output_type": "stream",
     "text": [
      "\u001b[0m\u001b[01;34m2019\u001b[0m/             file.txt              python day-7.ipynb  \u001b[01;34mUntitled Folder\u001b[0m/\r\n",
      "\u001b[01;34manaconda3\u001b[0m/        \u001b[01;34mfirst Directory\u001b[0m/     python day-8.ipynb   \u001b[01;34mUntitled Folder 1\u001b[0m/\r\n",
      "day 9.ipynb       \u001b[01;34mMusic\u001b[0m/               \u001b[01;34mSingleDirectory\u001b[0m/     \u001b[01;34mUntitled Folder 2\u001b[0m/\r\n",
      "\u001b[01;34mDesktop\u001b[0m/          n                    \u001b[01;34mSingle Directory\u001b[0m/    \u001b[01;34mUntitled Folder 3\u001b[0m/\r\n",
      "\u001b[01;34mDocuments\u001b[0m/        \u001b[01;34mPictures\u001b[0m/            \u001b[01;34mTemplates\u001b[0m/           Untitled.ipynb\r\n",
      "\u001b[01;34mDownloads\u001b[0m/        \u001b[01;34mPublic\u001b[0m/              \u001b[01;34mTestFolder\u001b[0m/          \u001b[01;34mVideos\u001b[0m/\r\n",
      "examples.desktop  python day 10.ipynb  \u001b[01;34mTest Folder\u001b[0m/\r\n",
      "file1.txt         python day-2.ipynb   \u001b[01;34mTestingFolder\u001b[0m/\r\n",
      "file2.txt         python day3-2.ipynb  Untitled1.ipynb\r\n"
     ]
    }
   ],
   "source": [
    "ls\n"
   ]
  },
  {
   "cell_type": "markdown",
   "metadata": {},
   "source": [
    "### filename matching patterns"
   ]
  },
  {
   "cell_type": "code",
   "execution_count": null,
   "metadata": {},
   "outputs": [],
   "source": []
  },
  {
   "cell_type": "code",
   "execution_count": 63,
   "metadata": {},
   "outputs": [],
   "source": [
    "import os\n",
    "dirPath = '.config'\n",
    "for f_name in os.listdir(dirPath):\n",
    "    if f_name.endswith('ipynd'):\n",
    "        print(f_name)                       "
   ]
  },
  {
   "cell_type": "code",
   "execution_count": 61,
   "metadata": {},
   "outputs": [],
   "source": [
    "import os\n",
    "dirPath = '.config'\n",
    "for f_name in os.listdir(dirPath):\n",
    "    if f_name.startswith('0'):\n",
    "        print(f_name)                     "
   ]
  },
  {
   "cell_type": "markdown",
   "metadata": {},
   "source": [
    "### deleting a file"
   ]
  },
  {
   "cell_type": "code",
   "execution_count": 64,
   "metadata": {},
   "outputs": [],
   "source": [
    "import os\n",
    "data_file='file1.txt'\n",
    "os.remove(data_file)"
   ]
  },
  {
   "cell_type": "code",
   "execution_count": 65,
   "metadata": {},
   "outputs": [
    {
     "name": "stdout",
     "output_type": "stream",
     "text": [
      "\u001b[0m\u001b[01;34m2019\u001b[0m/             file.txt             python day3-2.ipynb  \u001b[01;34mTestingFolder\u001b[0m/\r\n",
      "\u001b[01;34manaconda3\u001b[0m/        \u001b[01;34mfirst Directory\u001b[0m/      python day-7.ipynb  Untitled1.ipynb\r\n",
      "day 9.ipynb       \u001b[01;34mMusic\u001b[0m/               python day-8.ipynb   \u001b[01;34mUntitled Folder\u001b[0m/\r\n",
      "\u001b[01;34mDesktop\u001b[0m/          n                    \u001b[01;34mSingleDirectory\u001b[0m/     \u001b[01;34mUntitled Folder 1\u001b[0m/\r\n",
      "\u001b[01;34mDocuments\u001b[0m/        \u001b[01;34mPictures\u001b[0m/            \u001b[01;34mSingle Directory\u001b[0m/    \u001b[01;34mUntitled Folder 2\u001b[0m/\r\n",
      "\u001b[01;34mDownloads\u001b[0m/        \u001b[01;34mPublic\u001b[0m/              \u001b[01;34mTemplates\u001b[0m/           \u001b[01;34mUntitled Folder 3\u001b[0m/\r\n",
      "examples.desktop  python day 10.ipynb  \u001b[01;34mTestFolder\u001b[0m/          Untitled.ipynb\r\n",
      "file2.txt         python day-2.ipynb   \u001b[01;34mTest Folder\u001b[0m/         \u001b[01;34mVideos\u001b[0m/\r\n"
     ]
    }
   ],
   "source": [
    "ls"
   ]
  },
  {
   "cell_type": "code",
   "execution_count": 71,
   "metadata": {},
   "outputs": [
    {
     "ename": "FileNotFoundError",
     "evalue": "[Errno 2] No such file or directory: '2019'",
     "output_type": "error",
     "traceback": [
      "\u001b[0;31m---------------------------------------------------------------------------\u001b[0m",
      "\u001b[0;31mFileNotFoundError\u001b[0m                         Traceback (most recent call last)",
      "\u001b[0;32m<ipython-input-71-5622f1b409de>\u001b[0m in \u001b[0;36m<module>\u001b[0;34m\u001b[0m\n\u001b[1;32m      1\u001b[0m \u001b[0;32mimport\u001b[0m \u001b[0mshutil\u001b[0m \u001b[0;31m#delete the tree of structure of folder\u001b[0m\u001b[0;34m\u001b[0m\u001b[0;34m\u001b[0m\u001b[0m\n\u001b[1;32m      2\u001b[0m \u001b[0mdata_dir\u001b[0m \u001b[0;34m=\u001b[0m\u001b[0;34m'2019'\u001b[0m\u001b[0;34m\u001b[0m\u001b[0;34m\u001b[0m\u001b[0m\n\u001b[0;32m----> 3\u001b[0;31m \u001b[0mshutil\u001b[0m\u001b[0;34m.\u001b[0m\u001b[0mrmtree\u001b[0m\u001b[0;34m(\u001b[0m\u001b[0mdata_dir\u001b[0m\u001b[0;34m)\u001b[0m\u001b[0;34m\u001b[0m\u001b[0;34m\u001b[0m\u001b[0m\n\u001b[0m",
      "\u001b[0;32m~/anaconda3/lib/python3.7/shutil.py\u001b[0m in \u001b[0;36mrmtree\u001b[0;34m(path, ignore_errors, onerror)\u001b[0m\n\u001b[1;32m    480\u001b[0m             \u001b[0morig_st\u001b[0m \u001b[0;34m=\u001b[0m \u001b[0mos\u001b[0m\u001b[0;34m.\u001b[0m\u001b[0mlstat\u001b[0m\u001b[0;34m(\u001b[0m\u001b[0mpath\u001b[0m\u001b[0;34m)\u001b[0m\u001b[0;34m\u001b[0m\u001b[0;34m\u001b[0m\u001b[0m\n\u001b[1;32m    481\u001b[0m         \u001b[0;32mexcept\u001b[0m \u001b[0mException\u001b[0m\u001b[0;34m:\u001b[0m\u001b[0;34m\u001b[0m\u001b[0;34m\u001b[0m\u001b[0m\n\u001b[0;32m--> 482\u001b[0;31m             \u001b[0monerror\u001b[0m\u001b[0;34m(\u001b[0m\u001b[0mos\u001b[0m\u001b[0;34m.\u001b[0m\u001b[0mlstat\u001b[0m\u001b[0;34m,\u001b[0m \u001b[0mpath\u001b[0m\u001b[0;34m,\u001b[0m \u001b[0msys\u001b[0m\u001b[0;34m.\u001b[0m\u001b[0mexc_info\u001b[0m\u001b[0;34m(\u001b[0m\u001b[0;34m)\u001b[0m\u001b[0;34m)\u001b[0m\u001b[0;34m\u001b[0m\u001b[0;34m\u001b[0m\u001b[0m\n\u001b[0m\u001b[1;32m    483\u001b[0m             \u001b[0;32mreturn\u001b[0m\u001b[0;34m\u001b[0m\u001b[0;34m\u001b[0m\u001b[0m\n\u001b[1;32m    484\u001b[0m         \u001b[0;32mtry\u001b[0m\u001b[0;34m:\u001b[0m\u001b[0;34m\u001b[0m\u001b[0;34m\u001b[0m\u001b[0m\n",
      "\u001b[0;32m~/anaconda3/lib/python3.7/shutil.py\u001b[0m in \u001b[0;36mrmtree\u001b[0;34m(path, ignore_errors, onerror)\u001b[0m\n\u001b[1;32m    478\u001b[0m         \u001b[0;31m# lstat()/open()/fstat() trick.\u001b[0m\u001b[0;34m\u001b[0m\u001b[0;34m\u001b[0m\u001b[0;34m\u001b[0m\u001b[0m\n\u001b[1;32m    479\u001b[0m         \u001b[0;32mtry\u001b[0m\u001b[0;34m:\u001b[0m\u001b[0;34m\u001b[0m\u001b[0;34m\u001b[0m\u001b[0m\n\u001b[0;32m--> 480\u001b[0;31m             \u001b[0morig_st\u001b[0m \u001b[0;34m=\u001b[0m \u001b[0mos\u001b[0m\u001b[0;34m.\u001b[0m\u001b[0mlstat\u001b[0m\u001b[0;34m(\u001b[0m\u001b[0mpath\u001b[0m\u001b[0;34m)\u001b[0m\u001b[0;34m\u001b[0m\u001b[0;34m\u001b[0m\u001b[0m\n\u001b[0m\u001b[1;32m    481\u001b[0m         \u001b[0;32mexcept\u001b[0m \u001b[0mException\u001b[0m\u001b[0;34m:\u001b[0m\u001b[0;34m\u001b[0m\u001b[0;34m\u001b[0m\u001b[0m\n\u001b[1;32m    482\u001b[0m             \u001b[0monerror\u001b[0m\u001b[0;34m(\u001b[0m\u001b[0mos\u001b[0m\u001b[0;34m.\u001b[0m\u001b[0mlstat\u001b[0m\u001b[0;34m,\u001b[0m \u001b[0mpath\u001b[0m\u001b[0;34m,\u001b[0m \u001b[0msys\u001b[0m\u001b[0;34m.\u001b[0m\u001b[0mexc_info\u001b[0m\u001b[0;34m(\u001b[0m\u001b[0;34m)\u001b[0m\u001b[0;34m)\u001b[0m\u001b[0;34m\u001b[0m\u001b[0;34m\u001b[0m\u001b[0m\n",
      "\u001b[0;31mFileNotFoundError\u001b[0m: [Errno 2] No such file or directory: '2019'"
     ]
    }
   ],
   "source": [
    "import shutil #delete the tree of structure of folder\n",
    "data_dir ='2019'\n",
    "shutil.rmtree(data_dir)"
   ]
  },
  {
   "cell_type": "markdown",
   "metadata": {},
   "source": [
    "### Regular Expressions"
   ]
  },
  {
   "cell_type": "code",
   "execution_count": null,
   "metadata": {},
   "outputs": [],
   "source": []
  }
 ],
 "metadata": {
  "kernelspec": {
   "display_name": "Python 3",
   "language": "python",
   "name": "python3"
  },
  "language_info": {
   "codemirror_mode": {
    "name": "ipython",
    "version": 3
   },
   "file_extension": ".py",
   "mimetype": "text/x-python",
   "name": "python",
   "nbconvert_exporter": "python",
   "pygments_lexer": "ipython3",
   "version": "3.7.3"
  }
 },
 "nbformat": 4,
 "nbformat_minor": 2
}
